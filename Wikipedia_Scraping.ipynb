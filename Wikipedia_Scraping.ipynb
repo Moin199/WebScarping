{
  "nbformat": 4,
  "nbformat_minor": 0,
  "metadata": {
    "colab": {
      "name": "Copy of Wikipedia_Scraping.ipynb",
      "provenance": [],
      "collapsed_sections": [],
      "include_colab_link": true
    },
    "kernelspec": {
      "name": "python3",
      "display_name": "Python 3"
    }
  },
  "cells": [
    {
      "cell_type": "markdown",
      "metadata": {
        "id": "view-in-github",
        "colab_type": "text"
      },
      "source": [
        "<a href=\"https://colab.research.google.com/github/Moin199/WebScarping/blob/master/Wikipedia_Scraping.ipynb\" target=\"_parent\"><img src=\"https://colab.research.google.com/assets/colab-badge.svg\" alt=\"Open In Colab\"/></a>"
      ]
    },
    {
      "cell_type": "code",
      "metadata": {
        "id": "yNdmZ16f6eBm",
        "colab_type": "code",
        "colab": {}
      },
      "source": [
        "#Importing rlevant libraries\n",
        "from bs4 import BeautifulSoup\n",
        "import pandas as pd\n",
        "import urllib"
      ],
      "execution_count": 0,
      "outputs": []
    },
    {
      "cell_type": "code",
      "metadata": {
        "id": "khuCtOk39zNL",
        "colab_type": "code",
        "colab": {}
      },
      "source": [
        "from urllib.request import urlopen\n",
        "#Fetching the webpage\n",
        "page = urlopen('https://en.wikipedia.org/wiki/List_of_universities_in_England')\n",
        "#creating the Beautiful Soup object\n",
        "soup = BeautifulSoup(page, 'html.parser')"
      ],
      "execution_count": 0,
      "outputs": []
    },
    {
      "cell_type": "code",
      "metadata": {
        "id": "iKlwV2d8NHqn",
        "colab_type": "code",
        "colab": {}
      },
      "source": [
        "'''Function to fecth the details of the individual university \n",
        "that we get from the page variable.\n",
        "Logic is to add the name of the URL for university behind the root webpage\n",
        "Returns Former Name,No. of students,Undrgraduates and Post Graduates'''\n",
        "def fetchUniDetails(web_page):\n",
        "    prefix=\"https://en.wikipedia.org\"\n",
        "\n",
        "    page2 = urlopen(prefix+web_page)\n",
        "    soup2 = BeautifulSoup(page2, 'html.parser')\n",
        "    uni_details=[None,None,None,None]\n",
        "    \n",
        "    \n",
        "    table=soup2.find('table', class_='infobox vcard')\n",
        "    try:\n",
        "      for row in table.tbody.findAll('tr'):              \n",
        "        if row.find(text=True)=='Former names' or row.find(text=True)=='Former name':\n",
        "          if row.td.find(text=True)!='See History':\n",
        "            uni_details[0]=row.td.find(text=True)\n",
        "\n",
        "        if row.find(text=True)=='Students':\n",
        "          uni_details[1]=row.td.find(text=True)\n",
        "\n",
        "        if row.find(text=True)=='Undergraduates':\n",
        "          uni_details[2]=row.td.find(text=True)\n",
        "          \n",
        "        if row.find(text=True)=='Postgraduates':\n",
        "          uni_details[3]=row.td.find(text=True)\n",
        "\n",
        "    except:\n",
        "        pass\n",
        "    return uni_details"
      ],
      "execution_count": 0,
      "outputs": []
    },
    {
      "cell_type": "code",
      "metadata": {
        "id": "B2QguVvp91hp",
        "colab_type": "code",
        "colab": {}
      },
      "source": [
        "university=[]\n",
        "location=[]\n",
        "students=[]\n",
        "former_names=[]\n",
        "undergraduates=[]\n",
        "postgraduates=[]\n",
        "established=[]\n",
        "'''getting the complete data of the table\n",
        "'''\n",
        "right_table=soup.find('table', class_='wikitable sortable')\n",
        "for row in right_table.findAll('tr'):\n",
        "    cells=row.findAll('td')\n",
        "    if len(cells)==6:\n",
        "        university.append(cells[0].find(text=True))\n",
        "        uni_url=cells[0].find('a',href=True)['href']\n",
        "        location.append(cells[1].find(text=True))        \n",
        "        established.append(cells[2].find(text=True))\n",
        "        \n",
        "        uni_details = fetchUniDetails(uni_url)\n",
        "        former_names.append(uni_details[0] )\n",
        "        if uni_details[1] is not None:\n",
        "          students.append(uni_details[1])\n",
        "        else:\n",
        "          students.append(cells[3].find(text=True))\n",
        "        undergraduates.append(uni_details[2])\n",
        "        postgraduates.append(uni_details[3]  ) \n"
      ],
      "execution_count": 0,
      "outputs": []
    },
    {
      "cell_type": "code",
      "metadata": {
        "id": "-DUj4zu291kK",
        "colab_type": "code",
        "outputId": "47aae788-e9e8-47ce-f27d-c03df9aa8dba",
        "colab": {
          "base_uri": "https://localhost:8080/",
          "height": 204
        }
      },
      "source": [
        "#Filling up the fields of the Dataframe\n",
        "df=pd.DataFrame(university,columns=['university'])\n",
        "df['former names']=former_names\n",
        "df['students']=students\n",
        "df['location']=location\n",
        "df['undergraduates']=undergraduates\n",
        "df['postgraduates']=postgraduates\n",
        "df['established']=established\n",
        "df.head()"
      ],
      "execution_count": 0,
      "outputs": [
        {
          "output_type": "execute_result",
          "data": {
            "text/html": [
              "<div>\n",
              "<style scoped>\n",
              "    .dataframe tbody tr th:only-of-type {\n",
              "        vertical-align: middle;\n",
              "    }\n",
              "\n",
              "    .dataframe tbody tr th {\n",
              "        vertical-align: top;\n",
              "    }\n",
              "\n",
              "    .dataframe thead th {\n",
              "        text-align: right;\n",
              "    }\n",
              "</style>\n",
              "<table border=\"1\" class=\"dataframe\">\n",
              "  <thead>\n",
              "    <tr style=\"text-align: right;\">\n",
              "      <th></th>\n",
              "      <th>university</th>\n",
              "      <th>former names</th>\n",
              "      <th>students</th>\n",
              "      <th>location</th>\n",
              "      <th>undergraduates</th>\n",
              "      <th>postgraduates</th>\n",
              "      <th>established</th>\n",
              "    </tr>\n",
              "  </thead>\n",
              "  <tbody>\n",
              "    <tr>\n",
              "      <th>0</th>\n",
              "      <td>AECC University College</td>\n",
              "      <td>None</td>\n",
              "      <td>-\\n</td>\n",
              "      <td>Bournemouth</td>\n",
              "      <td>470</td>\n",
              "      <td>265</td>\n",
              "      <td>– (1965)\\n</td>\n",
              "    </tr>\n",
              "    <tr>\n",
              "      <th>1</th>\n",
              "      <td>Anglia Ruskin University</td>\n",
              "      <td>None</td>\n",
              "      <td>24,490 (2018/19)</td>\n",
              "      <td>Cambridge</td>\n",
              "      <td>19,630 (2018/19)</td>\n",
              "      <td>4,860 (2018/19)</td>\n",
              "      <td>1992 (1858)\\n</td>\n",
              "    </tr>\n",
              "    <tr>\n",
              "      <th>2</th>\n",
              "      <td>Arden University</td>\n",
              "      <td>Resource Development International</td>\n",
              "      <td>8,000</td>\n",
              "      <td>Coventry</td>\n",
              "      <td>None</td>\n",
              "      <td>None</td>\n",
              "      <td>2015 (1990)\\n</td>\n",
              "    </tr>\n",
              "    <tr>\n",
              "      <th>3</th>\n",
              "      <td>Arts University Bournemouth</td>\n",
              "      <td>Arts University College at Bournemouth (AUCB),...</td>\n",
              "      <td>3,385 (2018/19)</td>\n",
              "      <td>Poole</td>\n",
              "      <td>3,240 (2018/19)</td>\n",
              "      <td>150 (2018/19)</td>\n",
              "      <td>2012 (1885)\\n</td>\n",
              "    </tr>\n",
              "    <tr>\n",
              "      <th>4</th>\n",
              "      <td>University of the Arts London</td>\n",
              "      <td>London Institute</td>\n",
              "      <td>18,290</td>\n",
              "      <td>London\\n</td>\n",
              "      <td>14,760 (2016/17)</td>\n",
              "      <td>3,530 (2016/17)</td>\n",
              "      <td>2004\\n</td>\n",
              "    </tr>\n",
              "  </tbody>\n",
              "</table>\n",
              "</div>"
            ],
            "text/plain": [
              "                      university  ...    established\n",
              "0        AECC University College  ...     – (1965)\\n\n",
              "1       Anglia Ruskin University  ...  1992 (1858)\\n\n",
              "2               Arden University  ...  2015 (1990)\\n\n",
              "3    Arts University Bournemouth  ...  2012 (1885)\\n\n",
              "4  University of the Arts London  ...         2004\\n\n",
              "\n",
              "[5 rows x 7 columns]"
            ]
          },
          "metadata": {
            "tags": []
          },
          "execution_count": 18
        }
      ]
    },
    {
      "cell_type": "code",
      "metadata": {
        "id": "X_x-7KOI_dKG",
        "colab_type": "code",
        "outputId": "923b8658-a6a5-4e03-b580-6e612e432f97",
        "colab": {
          "base_uri": "https://localhost:8080/",
          "height": 204
        }
      },
      "source": [
        "df.tail()"
      ],
      "execution_count": 0,
      "outputs": [
        {
          "output_type": "execute_result",
          "data": {
            "text/html": [
              "<div>\n",
              "<style scoped>\n",
              "    .dataframe tbody tr th:only-of-type {\n",
              "        vertical-align: middle;\n",
              "    }\n",
              "\n",
              "    .dataframe tbody tr th {\n",
              "        vertical-align: top;\n",
              "    }\n",
              "\n",
              "    .dataframe thead th {\n",
              "        text-align: right;\n",
              "    }\n",
              "</style>\n",
              "<table border=\"1\" class=\"dataframe\">\n",
              "  <thead>\n",
              "    <tr style=\"text-align: right;\">\n",
              "      <th></th>\n",
              "      <th>university</th>\n",
              "      <th>former names</th>\n",
              "      <th>students</th>\n",
              "      <th>location</th>\n",
              "      <th>undergraduates</th>\n",
              "      <th>postgraduates</th>\n",
              "      <th>established</th>\n",
              "    </tr>\n",
              "  </thead>\n",
              "  <tbody>\n",
              "    <tr>\n",
              "      <th>125</th>\n",
              "      <td>University of Wolverhampton</td>\n",
              "      <td>Unavailable</td>\n",
              "      <td>19,045</td>\n",
              "      <td>Burton</td>\n",
              "      <td>15,410</td>\n",
              "      <td>3,635</td>\n",
              "      <td>1992 (1969)</td>\n",
              "    </tr>\n",
              "    <tr>\n",
              "      <th>126</th>\n",
              "      <td>University of Worcester</td>\n",
              "      <td>Unavailable</td>\n",
              "      <td>10,075</td>\n",
              "      <td>Worcester</td>\n",
              "      <td>8,410</td>\n",
              "      <td>1,665</td>\n",
              "      <td>1997</td>\n",
              "    </tr>\n",
              "    <tr>\n",
              "      <th>127</th>\n",
              "      <td>Writtle University College</td>\n",
              "      <td>Unavailable</td>\n",
              "      <td>750</td>\n",
              "      <td>Chelmsford</td>\n",
              "      <td>Unavailable</td>\n",
              "      <td>Unavailable</td>\n",
              "      <td>– (1893)</td>\n",
              "    </tr>\n",
              "    <tr>\n",
              "      <th>128</th>\n",
              "      <td>University of York</td>\n",
              "      <td>Unavailable</td>\n",
              "      <td>19,470</td>\n",
              "      <td>York</td>\n",
              "      <td>14,030</td>\n",
              "      <td>5,435</td>\n",
              "      <td>1963</td>\n",
              "    </tr>\n",
              "    <tr>\n",
              "      <th>129</th>\n",
              "      <td>York St John University</td>\n",
              "      <td>Unavailable</td>\n",
              "      <td>6,620</td>\n",
              "      <td>York</td>\n",
              "      <td>5,830</td>\n",
              "      <td>790</td>\n",
              "      <td>2006 (1841)</td>\n",
              "    </tr>\n",
              "  </tbody>\n",
              "</table>\n",
              "</div>"
            ],
            "text/plain": [
              "                      university former names  ... postgraduates  established\n",
              "125  University of Wolverhampton  Unavailable  ...         3,635  1992 (1969)\n",
              "126      University of Worcester  Unavailable  ...         1,665         1997\n",
              "127   Writtle University College  Unavailable  ...   Unavailable     – (1893)\n",
              "128           University of York  Unavailable  ...         5,435         1963\n",
              "129      York St John University  Unavailable  ...           790  2006 (1841)\n",
              "\n",
              "[5 rows x 7 columns]"
            ]
          },
          "metadata": {
            "tags": []
          },
          "execution_count": 48
        }
      ]
    },
    {
      "cell_type": "code",
      "metadata": {
        "id": "-shBQdQdeFo5",
        "colab_type": "code",
        "outputId": "811d9c47-eb68-4ef1-ab21-944a515c050d",
        "colab": {
          "base_uri": "https://localhost:8080/",
          "height": 255
        }
      },
      "source": [
        "#Dataframe details\n",
        "df.info()"
      ],
      "execution_count": 0,
      "outputs": [
        {
          "output_type": "stream",
          "text": [
            "<class 'pandas.core.frame.DataFrame'>\n",
            "RangeIndex: 130 entries, 0 to 129\n",
            "Data columns (total 7 columns):\n",
            " #   Column          Non-Null Count  Dtype \n",
            "---  ------          --------------  ----- \n",
            " 0   university      130 non-null    object\n",
            " 1   former names    43 non-null     object\n",
            " 2   students        130 non-null    object\n",
            " 3   location        130 non-null    object\n",
            " 4   undergraduates  120 non-null    object\n",
            " 5   postgraduates   121 non-null    object\n",
            " 6   established     130 non-null    object\n",
            "dtypes: object(7)\n",
            "memory usage: 7.2+ KB\n"
          ],
          "name": "stdout"
        }
      ]
    },
    {
      "cell_type": "code",
      "metadata": {
        "id": "Z2IvZrUNR89m",
        "colab_type": "code",
        "outputId": "fd45829e-72ce-402b-baa2-15cfc29d576f",
        "colab": {
          "base_uri": "https://localhost:8080/",
          "height": 328
        }
      },
      "source": [
        "df[df['postgraduates'].isnull()]"
      ],
      "execution_count": 0,
      "outputs": [
        {
          "output_type": "execute_result",
          "data": {
            "text/html": [
              "<div>\n",
              "<style scoped>\n",
              "    .dataframe tbody tr th:only-of-type {\n",
              "        vertical-align: middle;\n",
              "    }\n",
              "\n",
              "    .dataframe tbody tr th {\n",
              "        vertical-align: top;\n",
              "    }\n",
              "\n",
              "    .dataframe thead th {\n",
              "        text-align: right;\n",
              "    }\n",
              "</style>\n",
              "<table border=\"1\" class=\"dataframe\">\n",
              "  <thead>\n",
              "    <tr style=\"text-align: right;\">\n",
              "      <th></th>\n",
              "      <th>university</th>\n",
              "      <th>former names</th>\n",
              "      <th>students</th>\n",
              "      <th>location</th>\n",
              "      <th>undergraduates</th>\n",
              "      <th>postgraduates</th>\n",
              "      <th>established</th>\n",
              "    </tr>\n",
              "  </thead>\n",
              "  <tbody>\n",
              "    <tr>\n",
              "      <th>2</th>\n",
              "      <td>Arden University</td>\n",
              "      <td>Resource Development International</td>\n",
              "      <td>8,000</td>\n",
              "      <td>Coventry</td>\n",
              "      <td>None</td>\n",
              "      <td>None</td>\n",
              "      <td>2015 (1990)\\n</td>\n",
              "    </tr>\n",
              "    <tr>\n",
              "      <th>15</th>\n",
              "      <td>BPP University</td>\n",
              "      <td>BPP Law School</td>\n",
              "      <td>16,000</td>\n",
              "      <td>Abingdon</td>\n",
              "      <td>None</td>\n",
              "      <td>None</td>\n",
              "      <td>2013 (1992)\\n</td>\n",
              "    </tr>\n",
              "    <tr>\n",
              "      <th>28</th>\n",
              "      <td>Cranfield University</td>\n",
              "      <td>Cranfield Institute of Technology</td>\n",
              "      <td>4,490 (2018/19)</td>\n",
              "      <td>Cranfield</td>\n",
              "      <td>None</td>\n",
              "      <td>None</td>\n",
              "      <td>1993 (1946)\\n</td>\n",
              "    </tr>\n",
              "    <tr>\n",
              "      <th>38</th>\n",
              "      <td>University College of Estate Management</td>\n",
              "      <td>None</td>\n",
              "      <td>–\\n</td>\n",
              "      <td>Reading</td>\n",
              "      <td>None</td>\n",
              "      <td>None</td>\n",
              "      <td>– (1919)\\n</td>\n",
              "    </tr>\n",
              "    <tr>\n",
              "      <th>41</th>\n",
              "      <td>University of Gloucestershire</td>\n",
              "      <td>None</td>\n",
              "      <td>9,220 (2017/18)</td>\n",
              "      <td>Cheltenham</td>\n",
              "      <td>None</td>\n",
              "      <td>None</td>\n",
              "      <td>2001 (1998)\\n</td>\n",
              "    </tr>\n",
              "    <tr>\n",
              "      <th>44</th>\n",
              "      <td>Hartpury University</td>\n",
              "      <td>None</td>\n",
              "      <td>3,600</td>\n",
              "      <td>Gloucester</td>\n",
              "      <td>None</td>\n",
              "      <td>None</td>\n",
              "      <td>2018 (1947)\\n</td>\n",
              "    </tr>\n",
              "    <tr>\n",
              "      <th>82</th>\n",
              "      <td>London Institute of Banking &amp; Finance</td>\n",
              "      <td>None</td>\n",
              "      <td>-\\n</td>\n",
              "      <td>London</td>\n",
              "      <td>None</td>\n",
              "      <td>None</td>\n",
              "      <td>– (1879)\\n</td>\n",
              "    </tr>\n",
              "    <tr>\n",
              "      <th>104</th>\n",
              "      <td>Regent's University London</td>\n",
              "      <td>Regent's College</td>\n",
              "      <td>3,772</td>\n",
              "      <td>London</td>\n",
              "      <td>None</td>\n",
              "      <td>None</td>\n",
              "      <td>2013 (1984)\\n</td>\n",
              "    </tr>\n",
              "    <tr>\n",
              "      <th>127</th>\n",
              "      <td>Writtle University College</td>\n",
              "      <td>None</td>\n",
              "      <td>750</td>\n",
              "      <td>Chelmsford</td>\n",
              "      <td>None</td>\n",
              "      <td>None</td>\n",
              "      <td>– (1893)\\n</td>\n",
              "    </tr>\n",
              "  </tbody>\n",
              "</table>\n",
              "</div>"
            ],
            "text/plain": [
              "                                  university  ...    established\n",
              "2                           Arden University  ...  2015 (1990)\\n\n",
              "15                            BPP University  ...  2013 (1992)\\n\n",
              "28                      Cranfield University  ...  1993 (1946)\\n\n",
              "38   University College of Estate Management  ...     – (1919)\\n\n",
              "41             University of Gloucestershire  ...  2001 (1998)\\n\n",
              "44                       Hartpury University  ...  2018 (1947)\\n\n",
              "82     London Institute of Banking & Finance  ...     – (1879)\\n\n",
              "104               Regent's University London  ...  2013 (1984)\\n\n",
              "127               Writtle University College  ...     – (1893)\\n\n",
              "\n",
              "[9 rows x 7 columns]"
            ]
          },
          "metadata": {
            "tags": []
          },
          "execution_count": 20
        }
      ]
    },
    {
      "cell_type": "code",
      "metadata": {
        "id": "hcfcOLPyD3tY",
        "colab_type": "code",
        "colab": {}
      },
      "source": [
        "df.fillna('Unavailable', inplace=True)"
      ],
      "execution_count": 0,
      "outputs": []
    },
    {
      "cell_type": "code",
      "metadata": {
        "id": "G5_3Brv1CRNu",
        "colab_type": "code",
        "colab": {}
      },
      "source": [
        "for col in ['students','undergraduates','postgraduates']:\n",
        "  df[col]=df[col].apply(lambda x: x.split(' ')[0])\n",
        "  df[col]=df[col].apply(lambda x: x.replace('-','na'))\n",
        "\n",
        "for col in ['established','students','location']:\n",
        "  df[col]=df[col].apply(lambda x: x.replace('\\n',''))\n"
      ],
      "execution_count": 0,
      "outputs": []
    },
    {
      "cell_type": "code",
      "metadata": {
        "id": "FuVotzWUUPJR",
        "colab_type": "code",
        "outputId": "2cd8ddb1-e133-4ab8-a7d3-90c48b8f5728",
        "colab": {
          "base_uri": "https://localhost:8080/",
          "height": 204
        }
      },
      "source": [
        "df.head()"
      ],
      "execution_count": 0,
      "outputs": [
        {
          "output_type": "execute_result",
          "data": {
            "text/html": [
              "<div>\n",
              "<style scoped>\n",
              "    .dataframe tbody tr th:only-of-type {\n",
              "        vertical-align: middle;\n",
              "    }\n",
              "\n",
              "    .dataframe tbody tr th {\n",
              "        vertical-align: top;\n",
              "    }\n",
              "\n",
              "    .dataframe thead th {\n",
              "        text-align: right;\n",
              "    }\n",
              "</style>\n",
              "<table border=\"1\" class=\"dataframe\">\n",
              "  <thead>\n",
              "    <tr style=\"text-align: right;\">\n",
              "      <th></th>\n",
              "      <th>university</th>\n",
              "      <th>former names</th>\n",
              "      <th>students</th>\n",
              "      <th>location</th>\n",
              "      <th>undergraduates</th>\n",
              "      <th>postgraduates</th>\n",
              "      <th>established</th>\n",
              "    </tr>\n",
              "  </thead>\n",
              "  <tbody>\n",
              "    <tr>\n",
              "      <th>0</th>\n",
              "      <td>AECC University College</td>\n",
              "      <td>Unavailable</td>\n",
              "      <td>na</td>\n",
              "      <td>Bournemouth</td>\n",
              "      <td>470</td>\n",
              "      <td>265</td>\n",
              "      <td>– (1965)</td>\n",
              "    </tr>\n",
              "    <tr>\n",
              "      <th>1</th>\n",
              "      <td>Anglia Ruskin University</td>\n",
              "      <td>Unavailable</td>\n",
              "      <td>24,490</td>\n",
              "      <td>Cambridge</td>\n",
              "      <td>19,630</td>\n",
              "      <td>4,860</td>\n",
              "      <td>1992 (1858)</td>\n",
              "    </tr>\n",
              "    <tr>\n",
              "      <th>2</th>\n",
              "      <td>Arden University</td>\n",
              "      <td>Resource Development International</td>\n",
              "      <td>8,000</td>\n",
              "      <td>Coventry</td>\n",
              "      <td>Unavailable</td>\n",
              "      <td>Unavailable</td>\n",
              "      <td>2015 (1990)</td>\n",
              "    </tr>\n",
              "    <tr>\n",
              "      <th>3</th>\n",
              "      <td>Arts University Bournemouth</td>\n",
              "      <td>Arts University College at Bournemouth (AUCB),...</td>\n",
              "      <td>3,385</td>\n",
              "      <td>Poole</td>\n",
              "      <td>3,240</td>\n",
              "      <td>150</td>\n",
              "      <td>2012 (1885)</td>\n",
              "    </tr>\n",
              "    <tr>\n",
              "      <th>4</th>\n",
              "      <td>University of the Arts London</td>\n",
              "      <td>London Institute</td>\n",
              "      <td>18,290</td>\n",
              "      <td>London</td>\n",
              "      <td>14,760</td>\n",
              "      <td>3,530</td>\n",
              "      <td>2004</td>\n",
              "    </tr>\n",
              "  </tbody>\n",
              "</table>\n",
              "</div>"
            ],
            "text/plain": [
              "                      university  ...  established\n",
              "0        AECC University College  ...     – (1965)\n",
              "1       Anglia Ruskin University  ...  1992 (1858)\n",
              "2               Arden University  ...  2015 (1990)\n",
              "3    Arts University Bournemouth  ...  2012 (1885)\n",
              "4  University of the Arts London  ...         2004\n",
              "\n",
              "[5 rows x 7 columns]"
            ]
          },
          "metadata": {
            "tags": []
          },
          "execution_count": 23
        }
      ]
    },
    {
      "cell_type": "code",
      "metadata": {
        "id": "WSEgrZB8evmO",
        "colab_type": "code",
        "colab": {}
      },
      "source": [
        "import sqlite3"
      ],
      "execution_count": 0,
      "outputs": []
    },
    {
      "cell_type": "code",
      "metadata": {
        "id": "MZB4SSQhhluv",
        "colab_type": "code",
        "colab": {}
      },
      "source": [
        "conn = sqlite3.connect('Wiki.db')"
      ],
      "execution_count": 0,
      "outputs": []
    },
    {
      "cell_type": "code",
      "metadata": {
        "id": "jAg-PprqhrXS",
        "colab_type": "code",
        "colab": {}
      },
      "source": [
        "c = conn.cursor()"
      ],
      "execution_count": 0,
      "outputs": []
    },
    {
      "cell_type": "code",
      "metadata": {
        "id": "w23mAjLHhu2N",
        "colab_type": "code",
        "colab": {}
      },
      "source": [
        "c.execute('CREATE TABLE University (university, former names,students,location,undergraduates,postgraduates,established)')\n",
        "conn.commit()"
      ],
      "execution_count": 0,
      "outputs": []
    },
    {
      "cell_type": "code",
      "metadata": {
        "id": "hfoQ1ny105Bk",
        "colab_type": "code",
        "outputId": "a818c08c-276e-473d-e49f-4f683bd230b0",
        "colab": {
          "base_uri": "https://localhost:8080/",
          "height": 71
        }
      },
      "source": [
        "df.to_sql('University',conn,if_exists='replace',index=False)"
      ],
      "execution_count": 0,
      "outputs": [
        {
          "output_type": "stream",
          "text": [
            "/usr/local/lib/python3.6/dist-packages/pandas/core/generic.py:2663: UserWarning: The spaces in these column names will not be changed. In pandas versions < 0.14, spaces were converted to underscores.\n",
            "  method=method,\n"
          ],
          "name": "stderr"
        }
      ]
    },
    {
      "cell_type": "code",
      "metadata": {
        "id": "Md3jgjAt3OXz",
        "colab_type": "code",
        "outputId": "0d34ff7e-9bd5-45fc-ab89-e61f1f6a1d94",
        "colab": {
          "base_uri": "https://localhost:8080/",
          "height": 153
        }
      },
      "source": [
        "while(True):\n",
        "  name=input('Enter the name of University')\n",
        "  former_name=input('Enter the former name of University')\n",
        "  print(c.execute('SELECT * FROM University where university=?',(name,)).fetchall())\n",
        "  exit_status=input('Do you want to exit? Y or N')\n",
        "  if exit_status.lower()=='y':\n",
        "    break"
      ],
      "execution_count": 0,
      "outputs": [
        {
          "output_type": "stream",
          "text": [
            "Enter the name of UniversityUniversity of the Arts London\n",
            "Enter the former name of UniversityLondon Institute\n",
            "[('University of the Arts London', 'London Institute', '18,290', 'London', '14,760', '3,530', '2004')]\n",
            "Do you want to exit? Y or Nn\n",
            "Enter the name of UniversityUniversity of the Arts London\n",
            "Enter the former name of UniversityLondon Institute\n",
            "[('University of the Arts London', 'London Institute', '18,290', 'London', '14,760', '3,530', '2004')]\n",
            "Do you want to exit? Y or Ny\n"
          ],
          "name": "stdout"
        }
      ]
    }
  ]
}